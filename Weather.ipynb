{
 "cells": [
  {
   "cell_type": "markdown",
   "metadata": {},
   "source": [
    "Here, we do some exploratory data analysis of data on weather in Austin, TX, USA.\n",
    "\n",
    "'NOAA_QCLCD_2011_hourly_13904.csv' contains hourly weather data from 2011, including dry bulb temperature and whether it was overcast or clear or else ('sky_condition').  NOAA is the National Oceanic and Atmospheric Administration.  There are 10,337 observations, which is greater than 365 x 24, so some readings are more closely spaced than just hourly.  Note that this set has no column labels and several empty columns.\n",
    "\n",
    "'weather_data_austin_2010.csv' is also hourly, has exactly 365 x 24 = 8760 rows, and has four columns including temperature and dew point.\n",
    "\n",
    "Neither dataset is currently indexed by datetimes."
   ]
  },
  {
   "cell_type": "code",
   "execution_count": 1,
   "metadata": {},
   "outputs": [
    {
     "name": "stdout",
     "output_type": "stream",
     "text": [
      "      0         1    2   3       4  5      6  7  8  9  ...   34 35     36 37  \\\n",
      "0  13904  20110101   53  12  OVC045     10.00          ...          29.95      \n",
      "1  13904  20110101  153  12  OVC049     10.00          ...          30.01      \n",
      "2  13904  20110101  253  12  OVC060     10.00          ...  030     30.01      \n",
      "3  13904  20110101  353  12  OVC065     10.00          ...          30.03      \n",
      "4  13904  20110101  453  12  BKN070     10.00          ...          30.04      \n",
      "\n",
      "   38 39 40 41     42 43  \n",
      "0  AA           29.95     \n",
      "1  AA           30.02     \n",
      "2  AA           30.02     \n",
      "3  AA           30.04     \n",
      "4  AA           30.04     \n",
      "\n",
      "[5 rows x 44 columns]\n"
     ]
    }
   ],
   "source": [
    "import pandas as pd\n",
    "\n",
    "df_headers = pd.read_csv('NOAA_QCLCD_2011_hourly_13904.csv', header = None)\n",
    "\n",
    "print(df_headers.head())"
   ]
  },
  {
   "cell_type": "code",
   "execution_count": 4,
   "metadata": {},
   "outputs": [
    {
     "name": "stdout",
     "output_type": "stream",
     "text": [
      "(10337, 17)\n",
      "    Wban      date  Time  StationType sky_condition visibility dry_bulb_faren  \\\n",
      "0  13904  20110101    53           12        OVC045      10.00             51   \n",
      "1  13904  20110101   153           12        OVC049      10.00             51   \n",
      "2  13904  20110101   253           12        OVC060      10.00             51   \n",
      "3  13904  20110101   353           12        OVC065      10.00             50   \n",
      "4  13904  20110101   453           12        BKN070      10.00             50   \n",
      "\n",
      "  dry_bulb_cel wet_bulb_faren wet_bulb_cel dew_point_faren dew_point_cel  \\\n",
      "0         10.6             38          3.1              15          -9.4   \n",
      "1         10.6             37          3.0              14         -10.0   \n",
      "2         10.6             37          2.9              13         -10.6   \n",
      "3         10.0             38          3.1              17          -8.3   \n",
      "4         10.0             37          2.8              15          -9.4   \n",
      "\n",
      "  relative_humidity wind_speed wind_direction station_pressure  \\\n",
      "0                24         15            360            29.42   \n",
      "1                23         10            340            29.49   \n",
      "2                22         15            010            29.49   \n",
      "3                27          7            350            29.51   \n",
      "4                25         11            020            29.51   \n",
      "\n",
      "  sea_level_pressure  \n",
      "0              29.95  \n",
      "1              30.01  \n",
      "2              30.01  \n",
      "3              30.03  \n",
      "4              30.04  \n",
      "<class 'pandas.core.frame.DataFrame'>\n",
      "RangeIndex: 10337 entries, 0 to 10336\n",
      "Data columns (total 17 columns):\n",
      "Wban                  10337 non-null int64\n",
      "date                  10337 non-null int64\n",
      "Time                  10337 non-null int64\n",
      "StationType           10337 non-null int64\n",
      "sky_condition         10337 non-null object\n",
      "visibility            10337 non-null object\n",
      "dry_bulb_faren        10337 non-null object\n",
      "dry_bulb_cel          10337 non-null object\n",
      "wet_bulb_faren        10337 non-null object\n",
      "wet_bulb_cel          10337 non-null object\n",
      "dew_point_faren       10337 non-null object\n",
      "dew_point_cel         10337 non-null object\n",
      "relative_humidity     10337 non-null object\n",
      "wind_speed            10337 non-null object\n",
      "wind_direction        10337 non-null object\n",
      "station_pressure      10337 non-null object\n",
      "sea_level_pressure    10337 non-null object\n",
      "dtypes: int64(4), object(13)\n",
      "memory usage: 848.0+ KB\n",
      "None\n"
     ]
    }
   ],
   "source": [
    "column_labels = 'Wban,date,Time,StationType,sky_condition,sky_conditionFlag,visibility,visibilityFlag,wx_and_obst_to_vision,wx_and_obst_to_visionFlag,dry_bulb_faren,dry_bulb_farenFlag,dry_bulb_cel,dry_bulb_celFlag,wet_bulb_faren,wet_bulb_farenFlag,wet_bulb_cel,wet_bulb_celFlag,dew_point_faren,dew_point_farenFlag,dew_point_cel,dew_point_celFlag,relative_humidity,relative_humidityFlag,wind_speed,wind_speedFlag,wind_direction,wind_directionFlag,value_for_wind_character,value_for_wind_characterFlag,station_pressure,station_pressureFlag,pressure_tendency,pressure_tendencyFlag,presschange,presschangeFlag,sea_level_pressure,sea_level_pressureFlag,record_type,hourly_precip,hourly_precipFlag,altimeter,altimeterFlag,junk'\n",
    "list_to_drop = ['sky_conditionFlag',\n",
    " 'visibilityFlag',\n",
    " 'wx_and_obst_to_vision',\n",
    " 'wx_and_obst_to_visionFlag',\n",
    " 'dry_bulb_farenFlag',\n",
    " 'dry_bulb_celFlag',\n",
    " 'wet_bulb_farenFlag',\n",
    " 'wet_bulb_celFlag',\n",
    " 'dew_point_farenFlag',\n",
    " 'dew_point_celFlag',\n",
    " 'relative_humidityFlag',\n",
    " 'wind_speedFlag',\n",
    " 'wind_directionFlag',\n",
    " 'value_for_wind_character',\n",
    " 'value_for_wind_characterFlag',\n",
    " 'station_pressureFlag',\n",
    " 'pressure_tendencyFlag',\n",
    " 'pressure_tendency',\n",
    " 'presschange',\n",
    " 'presschangeFlag',\n",
    " 'sea_level_pressureFlag',\n",
    " 'hourly_precip',\n",
    " 'hourly_precipFlag',\n",
    " 'altimeter',\n",
    " 'record_type',\n",
    " 'altimeterFlag',\n",
    " 'junk']\n",
    "\n",
    "# 'column_labels' is a single string containing all column labels, separated by commas\n",
    "column_labels_list = column_labels.split(',')\n",
    "df_headers.columns = column_labels_list\n",
    "\n",
    "# list_to_drop is a list of columns we wish to drop, namely the empty ones\n",
    "df_dropped = df_headers.drop(list_to_drop, axis='columns')\n",
    "\n",
    "print(df_dropped.shape)\n",
    "print(df_dropped.head())\n",
    "print(df_dropped.info())"
   ]
  },
  {
   "cell_type": "code",
   "execution_count": 11,
   "metadata": {},
   "outputs": [
    {
     "name": "stdout",
     "output_type": "stream",
     "text": [
      "                      Wban      date  Time  StationType sky_condition  \\\n",
      "2011-01-01 00:53:00  13904  20110101  0053           12        OVC045   \n",
      "2011-01-01 01:53:00  13904  20110101  0153           12        OVC049   \n",
      "2011-01-01 02:53:00  13904  20110101  0253           12        OVC060   \n",
      "2011-01-01 03:53:00  13904  20110101  0353           12        OVC065   \n",
      "2011-01-01 04:53:00  13904  20110101  0453           12        BKN070   \n",
      "\n",
      "                    visibility dry_bulb_faren dry_bulb_cel wet_bulb_faren  \\\n",
      "2011-01-01 00:53:00      10.00             51         10.6             38   \n",
      "2011-01-01 01:53:00      10.00             51         10.6             37   \n",
      "2011-01-01 02:53:00      10.00             51         10.6             37   \n",
      "2011-01-01 03:53:00      10.00             50         10.0             38   \n",
      "2011-01-01 04:53:00      10.00             50         10.0             37   \n",
      "\n",
      "                    wet_bulb_cel dew_point_faren dew_point_cel  \\\n",
      "2011-01-01 00:53:00          3.1              15          -9.4   \n",
      "2011-01-01 01:53:00          3.0              14         -10.0   \n",
      "2011-01-01 02:53:00          2.9              13         -10.6   \n",
      "2011-01-01 03:53:00          3.1              17          -8.3   \n",
      "2011-01-01 04:53:00          2.8              15          -9.4   \n",
      "\n",
      "                    relative_humidity wind_speed wind_direction  \\\n",
      "2011-01-01 00:53:00                24         15            360   \n",
      "2011-01-01 01:53:00                23         10            340   \n",
      "2011-01-01 02:53:00                22         15            010   \n",
      "2011-01-01 03:53:00                27          7            350   \n",
      "2011-01-01 04:53:00                25         11            020   \n",
      "\n",
      "                    station_pressure sea_level_pressure  \n",
      "2011-01-01 00:53:00            29.42              29.95  \n",
      "2011-01-01 01:53:00            29.49              30.01  \n",
      "2011-01-01 02:53:00            29.49              30.01  \n",
      "2011-01-01 03:53:00            29.51              30.03  \n",
      "2011-01-01 04:53:00            29.51              30.04  \n"
     ]
    }
   ],
   "source": [
    "# Convert the date column from integer to string\n",
    "df_dropped['date'] = df_dropped['date'].astype(str)\n",
    "\n",
    "# Reformat the time column\n",
    "# df_dropped['Time'] = df_dropped['Time'].apply(lambda x:'{:0>4}'.format(x))\n",
    "df_dropped['Time'] = df_dropped['Time'].astype(str)\n",
    "\n",
    "# Concatenate the new date and time columns\n",
    "date_string = df_dropped['date'] + df_dropped['Time']\n",
    "\n",
    "# Convert the date_string pandas series to a datetime object\n",
    "date_times = pd.to_datetime(date_string, format='%Y%m%d%H%M')\n",
    "\n",
    "# Set the index to be the new date_times container (note we haven't dropped 'date' and 'Time')\n",
    "df_clean = df_dropped.set_index(date_times)\n",
    "\n",
    "print(df_clean.head())"
   ]
  },
  {
   "cell_type": "code",
   "execution_count": 12,
   "metadata": {},
   "outputs": [
    {
     "name": "stdout",
     "output_type": "stream",
     "text": [
      "2011-06-20 08:27:00     NaN\n",
      "2011-06-20 08:28:00     NaN\n",
      "2011-06-20 08:29:00     NaN\n",
      "2011-06-20 08:30:00     NaN\n",
      "2011-06-20 08:31:00     NaN\n",
      "2011-06-20 08:32:00     NaN\n",
      "2011-06-20 08:33:00     NaN\n",
      "2011-06-20 08:34:00     NaN\n",
      "2011-06-20 08:35:00     NaN\n",
      "2011-06-20 08:53:00    83.0\n",
      "Name: dry_bulb_faren, dtype: float64\n",
      "<class 'pandas.core.frame.DataFrame'>\n",
      "DatetimeIndex: 10337 entries, 2011-01-01 00:53:00 to 2011-12-31 23:53:00\n",
      "Data columns (total 17 columns):\n",
      "Wban                  10337 non-null int64\n",
      "date                  10337 non-null object\n",
      "Time                  10337 non-null object\n",
      "StationType           10337 non-null int64\n",
      "sky_condition         10337 non-null object\n",
      "visibility            10337 non-null object\n",
      "dry_bulb_faren        10326 non-null float64\n",
      "dry_bulb_cel          10337 non-null object\n",
      "wet_bulb_faren        10337 non-null object\n",
      "wet_bulb_cel          10337 non-null object\n",
      "dew_point_faren       10323 non-null float64\n",
      "dew_point_cel         10337 non-null object\n",
      "relative_humidity     10337 non-null object\n",
      "wind_speed            10318 non-null float64\n",
      "wind_direction        10337 non-null object\n",
      "station_pressure      10337 non-null object\n",
      "sea_level_pressure    10337 non-null object\n",
      "dtypes: float64(3), int64(2), object(12)\n",
      "memory usage: 1.2+ MB\n",
      "None\n"
     ]
    }
   ],
   "source": [
    "# Convert dry_bulb_faren column in opposite direction, from string to numeric\n",
    "df_clean['dry_bulb_faren'] = pd.to_numeric(df_clean['dry_bulb_faren'], errors='coerce')\n",
    "\n",
    "# Notice the 'missing' entries now replaced by 'NaN' (= 'Not a Number')\n",
    "print(df_clean.loc['2011-06-20 08:00:00':'2011-06-20 09:00:00', 'dry_bulb_faren'])\n",
    "\n",
    "# Likewise, convert wind_speed and dew_point_faren columns to floats\n",
    "df_clean['wind_speed'] = pd.to_numeric(df_clean['wind_speed'], errors='coerce')\n",
    "df_clean['dew_point_faren'] = pd.to_numeric(df_clean['dew_point_faren'], errors='coerce')\n",
    "\n",
    "print(df_clean.info())"
   ]
  },
  {
   "cell_type": "markdown",
   "metadata": {},
   "source": [
    "Let's do a sanity check on the data.  Making sure that the median temperature in April - June was higher than the overall median temp, was in turn higher than the median in January:"
   ]
  },
  {
   "cell_type": "code",
   "execution_count": 14,
   "metadata": {},
   "outputs": [
    {
     "name": "stdout",
     "output_type": "stream",
     "text": [
      "72.0\n",
      "78.0\n",
      "48.0\n"
     ]
    }
   ],
   "source": [
    "# Overall median of the dry_bulb_faren column\n",
    "print(df_clean['dry_bulb_faren'].median())\n",
    "\n",
    "# Median of the dry_bulb_faren column for the range April - June (inclusive)\n",
    "print(df_clean.loc['2011-04':'2011-06', 'dry_bulb_faren'].median())\n",
    "\n",
    "# Median of the dry_bulb_faren column for the month of January\n",
    "print(df_clean.loc['2011-Jan', 'dry_bulb_faren'].median())"
   ]
  },
  {
   "cell_type": "markdown",
   "metadata": {},
   "source": [
    "How does average daily temperature in 2011 compare with that in 2010 (both measured in degrees Fahrenheit)?"
   ]
  },
  {
   "cell_type": "code",
   "execution_count": 18,
   "metadata": {},
   "outputs": [
    {
     "name": "stdout",
     "output_type": "stream",
     "text": [
      "                     Temperature  DewPoint  Pressure\n",
      "Date                                                \n",
      "2010-01-01 00:00:00         46.2      37.5       1.0\n",
      "2010-01-01 01:00:00         44.6      37.1       1.0\n",
      "2010-01-01 02:00:00         44.1      36.9       1.0\n",
      "2010-01-01 03:00:00         43.8      36.9       1.0\n",
      "2010-01-01 04:00:00         43.5      36.8       1.0\n",
      "<class 'pandas.core.frame.DataFrame'>\n",
      "DatetimeIndex: 8759 entries, 2010-01-01 00:00:00 to 2010-12-31 23:00:00\n",
      "Data columns (total 3 columns):\n",
      "Temperature    8759 non-null float64\n",
      "DewPoint       8759 non-null float64\n",
      "Pressure       8759 non-null float64\n",
      "dtypes: float64(3)\n",
      "memory usage: 273.7 KB\n",
      "None\n"
     ]
    }
   ],
   "source": [
    "df_climate = pd.read_csv('weather_data_austin_2010.csv', parse_dates = True, index_col = 'Date')\n",
    "\n",
    "print(df_climate.head())\n",
    "print(df_climate.info())"
   ]
  },
  {
   "cell_type": "code",
   "execution_count": 25,
   "metadata": {},
   "outputs": [
    {
     "name": "stdout",
     "output_type": "stream",
     "text": [
      "1.33018318701\n"
     ]
    }
   ],
   "source": [
    "# Downsample df_clean by day and aggregate by mean\n",
    "daily_mean_2011 = df_clean.resample('D').mean()\n",
    "\n",
    "# Extract dry_bulb_faren column from daily_mean_2011 as a numpy array\n",
    "daily_temp_2011 = daily_mean_2011['dry_bulb_faren'].values\n",
    "\n",
    "# Downsample df_climate by day and aggregate by mean\n",
    "daily_climate = df_climate.resample('D').mean()\n",
    "\n",
    "# Extract temperature column from daily_climate as a numpy array\n",
    "# daily_temp_climate = daily_climate.reset_index()['Temperature']\n",
    "daily_temp_climate = daily_climate['Temperature'].values\n",
    "\n",
    "# Compute the difference between the two arrays and print the mean difference\n",
    "difference = daily_temp_2011 - daily_temp_climate\n",
    "print(difference.mean())"
   ]
  },
  {
   "cell_type": "markdown",
   "metadata": {},
   "source": [
    "So the mean difference between mean daily temperatures was about 1.3 degrees, warmer in 2011 than 2010.\n",
    "\n",
    "Now let's study sunny temperatures (and other attributes) versus cloudy temperatures (and other attributes) in 2011."
   ]
  },
  {
   "cell_type": "code",
   "execution_count": 26,
   "metadata": {},
   "outputs": [
    {
     "name": "stdout",
     "output_type": "stream",
     "text": [
      "Wban               0.000000\n",
      "StationType        0.000000\n",
      "dry_bulb_faren     6.504304\n",
      "dew_point_faren   -4.339286\n",
      "wind_speed        -3.246062\n",
      "dtype: float64\n"
     ]
    }
   ],
   "source": [
    "# Select days that are sunny\n",
    "sunny = df_clean.loc[df_clean['sky_condition'].str.contains('CLR')]\n",
    "\n",
    "# Select days that are overcast\n",
    "overcast = df_clean.loc[df_clean['sky_condition'].str.contains('OVC')]\n",
    "\n",
    "# Resample sunny and overcast, aggregating by daily maximum\n",
    "sunny_daily_max = sunny.resample('D').max()\n",
    "overcast_daily_max = overcast.resample('D').max()\n",
    "\n",
    "# Find difference between mean of sunny_daily_max and mean of overcast_daily_max\n",
    "print(sunny_daily_max.mean() - overcast_daily_max.mean())"
   ]
  },
  {
   "cell_type": "markdown",
   "metadata": {},
   "source": [
    "Unsurprisingly, sunny days tended to be warmer (and less windy)."
   ]
  },
  {
   "cell_type": "code",
   "execution_count": 30,
   "metadata": {},
   "outputs": [
    {
     "name": "stdout",
     "output_type": "stream",
     "text": [
      "                visibility  dry_bulb_faren\n",
      "visibility        1.000000        0.490328\n",
      "dry_bulb_faren    0.490328        1.000000\n"
     ]
    },
    {
     "data": {
      "image/png": "[encoded data removed]",
      "text/plain": [
       "<matplotlib.figure.Figure at 0x9427a30>"
      ]
     },
     "metadata": {},
     "output_type": "display_data"
    }
   ],
   "source": [
    "import matplotlib.pyplot as plt\n",
    "\n",
    "df_clean['visibility'] = pd.to_numeric(df_clean['visibility'], errors='coerce')\n",
    "\n",
    "# Select visibility and dry_bulb_faren columns and resample them weekly, aggregating by mean\n",
    "weekly_mean = df_clean[['visibility','dry_bulb_faren']].resample('W').mean()\n",
    "\n",
    "# Find the Pearson correlation coefficient between the above weekly statistics\n",
    "print(weekly_mean.corr())\n",
    "\n",
    "# subplots=True due to different units on vertical axis\n",
    "weekly_mean.plot(subplots=True)\n",
    "plt.show()"
   ]
  },
  {
   "cell_type": "markdown",
   "metadata": {},
   "source": [
    "So there's a positive correlation between visibility and temperature.\n",
    "\n",
    "Analysis of number of sunny hours in a day:"
   ]
  },
  {
   "cell_type": "code",
   "execution_count": 33,
   "metadata": {},
   "outputs": [
    {
     "name": "stdout",
     "output_type": "stream",
     "text": [
      "10.0\n",
      "4.0\n",
      "1.0\n",
      "24.0\n",
      "0.0\n"
     ]
    },
    {
     "data": {
      "image/png": "[encoded data removed]",
      "text/plain": [
       "<matplotlib.figure.Figure at 0x97b12d0>"
      ]
     },
     "metadata": {},
     "output_type": "display_data"
    }
   ],
   "source": [
    "# Create a Boolean series for sunny days\n",
    "sunny = df_clean['sky_condition'] == 'CLR'\n",
    "\n",
    "# Resample the Boolean series by day and compute the sum\n",
    "sunny_hours = sunny.resample('D').sum()\n",
    "\n",
    "print(sunny_hours.quantile(0.75))\n",
    "print(sunny_hours.quantile())\n",
    "print(sunny_hours.quantile(0.25))\n",
    "print(sunny_hours.max())\n",
    "print(sunny_hours.min())\n",
    "\n",
    "# Resample the Boolean series by day and compute the count\n",
    "# total_hours = sunny.resample('D').count()\n",
    "\n",
    "# Divide sunny_hours by total_hours\n",
    "# sunny_fraction = sunny_hours / total_hours\n",
    "\n",
    "# Make box plot of sunny_hours\n",
    "sunny_hours.plot(kind='box')\n",
    "plt.show()"
   ]
  },
  {
   "cell_type": "markdown",
   "metadata": {},
   "source": [
    "So the median number of sunny hours was 4, and the inter-quartile range was 1 sunny hour (25th percentile) through 10 sunny hours (75th percentile)."
   ]
  },
  {
   "cell_type": "code",
   "execution_count": 35,
   "metadata": {},
   "outputs": [
    {
     "data": {
      "image/png": "[encoded data removed]",
      "text/plain": [
       "<matplotlib.figure.Figure at 0x98b44f0>"
      ]
     },
     "metadata": {},
     "output_type": "display_data"
    }
   ],
   "source": [
    "# Resample dew_point_faren and dry_bulb_faren by month, aggregating the maximum values\n",
    "monthly_max = df_clean[['dew_point_faren','dry_bulb_faren']].resample('M').max()\n",
    "\n",
    "# Generate a histogram\n",
    "monthly_max.plot(kind = 'hist', bins = 8, alpha = 0.4, ec = 'black')\n",
    "\n",
    "plt.show()"
   ]
  },
  {
   "cell_type": "markdown",
   "metadata": {},
   "source": [
    "So in 2011, the maximum monthly dew point was above 60 degrees in every month, and the max monthly temp was above 70 in every month.\n",
    "\n",
    "What is the probability that a max daily temp (local max) in August 2011 exceeded the max monthly temp (global max) for August 2010?"
   ]
  },
  {
   "cell_type": "code",
   "execution_count": 40,
   "metadata": {},
   "outputs": [
    {
     "name": "stdout",
     "output_type": "stream",
     "text": [
      "95.3\n",
      "30\n"
     ]
    },
    {
     "data": {
      "image/png": "[encoded data removed]",
      "text/plain": [
       "<matplotlib.figure.Figure at 0x9883b70>"
      ]
     },
     "metadata": {},
     "output_type": "display_data"
    }
   ],
   "source": [
    "# Extract the maximum temperature in August 2010 from df_climate\n",
    "august_max = df_climate.loc['2010-08','Temperature'].max()\n",
    "print(august_max)\n",
    "\n",
    "# Resample the August 2011 temperatures in df_clean by day and aggregate the maximum value\n",
    "august_2011 = df_clean.loc['2011-08','dry_bulb_faren'].resample('D').max()\n",
    "\n",
    "# Filter out days in August 2011 where max temp exceeded august_max\n",
    "august_2011_high = august_2011[august_2011 > august_max]\n",
    "print(len(august_2011_high))\n",
    "\n",
    "# Construct a cumulative distribution function of august_2011_high\n",
    "august_2011_high.plot(kind='hist',normed=True,cumulative=True,bins=25,ec='black')\n",
    "plt.xlabel('Temperature (degrees F)')\n",
    "plt.show()"
   ]
  },
  {
   "cell_type": "markdown",
   "metadata": {},
   "source": [
    "For all days but one in August 2011, the high temperature exceeded the monthly high from August 2010.\n",
    "\n",
    "Interpretation of CDF: assuming it's one of these 30 days, the CDF at temperature X gives the probability that the daily high was less than or equal to X."
   ]
  }
 ],
 "metadata": {
  "kernelspec": {
   "display_name": "Python 3",
   "language": "python",
   "name": "python3"
  },
  "language_info": {
   "codemirror_mode": {
    "name": "ipython",
    "version": 3
   },
   "file_extension": ".py",
   "mimetype": "text/x-python",
   "name": "python",
   "nbconvert_exporter": "python",
   "pygments_lexer": "ipython3",
   "version": "3.6.1"
  }
 },
 "nbformat": 4,
 "nbformat_minor": 2
}
